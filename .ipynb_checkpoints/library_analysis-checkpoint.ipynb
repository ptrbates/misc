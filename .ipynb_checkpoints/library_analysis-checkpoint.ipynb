{
 "cells": [
  {
   "cell_type": "code",
   "execution_count": 78,
   "metadata": {},
   "outputs": [],
   "source": [
    "library(tidyverse, quietly = TRUE)"
   ]
  },
  {
   "cell_type": "code",
   "execution_count": 79,
   "metadata": {},
   "outputs": [],
   "source": [
    "# Data downloaded from: \n",
    "# https://data.imls.gov/Public-Libraries-Survey/State-Profiles-FY-2015-Public-Libraries-Survey-Dat/b4zt-jxw3\n",
    "\n",
    "# Commented to reduce server requests unless necessary\n",
    "\n",
    "#url <- \"https://data.imls.gov/api/views/b4zt-jxw3/rows.csv?accessType=DOWNLOAD\"\n",
    "#lib1 <- read_csv(url) %>% janitor::clean_names()\n",
    "#lib_save <- lib1\n",
    "\n",
    "lib1 <- lib_save"
   ]
  },
  {
   "cell_type": "code",
   "execution_count": 80,
   "metadata": {},
   "outputs": [],
   "source": [
    "# Clean up the feature names\n",
    "lib1 <- lib1 %>% clean_names()\n",
    "\n",
    "# Set the state and bea_region columns to be factors\n",
    "lib1$state <- as.factor(lib1$state)\n",
    "lib1$bea_region <- as.factor(lib1$bea_region)\n",
    "\n",
    "# Remove dollar signs and convert money columns to integers\n",
    "money_cols <- str_detect(lib1[2,], \"\\\\$\")\n",
    "lib1[money_cols] <- map(lib1[money_cols], ~ as.integer(str_replace(.x, \"\\\\$\", \"\")))\n",
    "\n",
    "# Convert the date columns into date format\n",
    "lib1$start_date <- parse_date(str_c(lib1$start_date, lib1$year, sep = \"-\"), format = \"%d-%b-%Y\")\n",
    "lib1$end_date <- parse_date(str_c(lib1$end_date, lib1$year, sep = \"-\"), format = \"%d-%b-%Y\")\n",
    "lib1 <- subset(lib1, select = -year)"
   ]
  },
  {
   "cell_type": "code",
   "execution_count": null,
   "metadata": {
    "collapsed": true
   },
   "outputs": [],
   "source": []
  }
 ],
 "metadata": {
  "kernelspec": {
   "display_name": "R",
   "language": "R",
   "name": "ir"
  },
  "language_info": {
   "codemirror_mode": "r",
   "file_extension": ".r",
   "mimetype": "text/x-r-source",
   "name": "R",
   "pygments_lexer": "r",
   "version": "3.4.2"
  }
 },
 "nbformat": 4,
 "nbformat_minor": 2
}
